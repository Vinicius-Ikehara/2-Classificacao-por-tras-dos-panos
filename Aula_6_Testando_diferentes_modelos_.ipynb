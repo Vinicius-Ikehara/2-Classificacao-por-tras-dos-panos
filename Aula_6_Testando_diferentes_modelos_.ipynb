{
  "nbformat": 4,
  "nbformat_minor": 0,
  "metadata": {
    "colab": {
      "name": "Aula 6 - Testando diferentes modelos .ipynb",
      "provenance": [],
      "authorship_tag": "ABX9TyOn3nFAhZHu4pbLIAW032Qs",
      "include_colab_link": true
    },
    "kernelspec": {
      "name": "python3",
      "display_name": "Python 3"
    },
    "language_info": {
      "name": "python"
    }
  },
  "cells": [
    {
      "cell_type": "markdown",
      "metadata": {
        "id": "view-in-github",
        "colab_type": "text"
      },
      "source": [
        "<a href=\"https://colab.research.google.com/github/Vinicius-Ikehara/2-Classificacao-por-tras-dos-panos/blob/main/Aula_6_Testando_diferentes_modelos_.ipynb\" target=\"_parent\"><img src=\"https://colab.research.google.com/assets/colab-badge.svg\" alt=\"Open In Colab\"/></a>"
      ]
    },
    {
      "cell_type": "code",
      "execution_count": null,
      "metadata": {
        "colab": {
          "base_uri": "https://localhost:8080/"
        },
        "id": "elaAaXT_UiUa",
        "outputId": "180fd3f2-6177-48f3-b62f-754723daac84"
      },
      "outputs": [
        {
          "output_type": "stream",
          "name": "stdout",
          "text": [
            "Drive already mounted at /content/drive; to attempt to forcibly remount, call drive.mount(\"/content/drive\", force_remount=True).\n"
          ]
        }
      ],
      "source": [
        "from google.colab import drive\n",
        "drive.mount('/content/drive')"
      ]
    },
    {
      "cell_type": "code",
      "source": [
        "from google.colab import files\n",
        "import io\n"
      ],
      "metadata": {
        "id": "rNe71u3HU-qz"
      },
      "execution_count": null,
      "outputs": []
    },
    {
      "cell_type": "code",
      "source": [
        "from collections import Counter\n",
        "import pandas as pd\n",
        "\n",
        "\n",
        "path = \"/content/drive/MyDrive/Formação Machine Learning/2 - Classificação Por Trás Dos Panos\"\n",
        "\n",
        "#Lendo o CSV \n",
        "df = pd.read_csv(path + '/buscas2.csv' )\n",
        "\n",
        "\n",
        "X_df = df[['home', 'busca', 'logado']]\n",
        "Y_df = df['comprou']\n",
        "\n",
        "Xdummies_df = pd.get_dummies(X_df)\n",
        "Ydummies_df = Y_df\n",
        "\n",
        "X = Xdummies_df.values\n",
        "Y = Ydummies_df.values\n",
        "\n",
        "porcentagem_de_treino = 0.8\n",
        "porcentagem_de_teste = 0.1\n",
        "\n",
        "tamanho_de_treino = int(porcentagem_de_treino * len(Y))\n",
        "tamanho_de_teste = int(porcentagem_de_teste * len(Y))\n",
        "tamanho_de_validacao = len(Y) - tamanho_de_treino - tamanho_de_teste\n",
        "\n",
        "# 0 até 799\n",
        "treino_dados = X[0:tamanho_de_treino]\n",
        "treino_marcacoes = Y[0  :tamanho_de_treino]\n",
        "\n",
        "# 800 até 899\n",
        "fim_de_teste = tamanho_de_treino + tamanho_de_teste\n",
        "teste_dados = X[tamanho_de_treino:fim_de_teste]\n",
        "teste_marcacoes = Y[tamanho_de_treino:fim_de_teste]\n",
        "\n",
        "# 900 até 999\n",
        "validacao_dados = X[fim_de_teste:]\n",
        "validacao_marcacoes = Y[fim_de_teste:]"
      ],
      "metadata": {
        "id": "Sc5ndvtkhe8E"
      },
      "execution_count": null,
      "outputs": []
    },
    {
      "cell_type": "code",
      "source": [
        "# restante do código\n",
        "\n",
        "from sklearn.naive_bayes import MultinomialNB\n",
        "modeloMultinomial = MultinomialNB()\n",
        "\n",
        "modeloMultinomial.fit(treino_dados, treino_marcacoes)\n",
        "\n",
        "resultadoMultinomial = modeloMultinomial.predict(teste_dados)\n",
        "acertos = (resultadoMultinomial == teste_marcacoes)\n",
        "total_de_acertos = sum(acertos)\n",
        "total_de_elementos = len(teste_dados)\n",
        "\n",
        "taxa_de_acerto = 100.0 * total_de_acertos / total_de_elementos\n",
        "\n",
        "msg = (\"Taxa de acerto do algoritmo Multinomial: \", taxa_de_acerto)\n",
        "\n",
        "resultadoMultinomial = taxa_de_acerto\n",
        "print(msg)"
      ],
      "metadata": {
        "colab": {
          "base_uri": "https://localhost:8080/"
        },
        "id": "skTf8HNKlDRu",
        "outputId": "d8f29d3c-6b1f-4186-e4b0-7a439824469c"
      },
      "execution_count": null,
      "outputs": [
        {
          "output_type": "stream",
          "name": "stdout",
          "text": [
            "('Taxa de acerto do algoritmo Multinomial: ', 85.71428571428571)\n"
          ]
        }
      ]
    },
    {
      "cell_type": "code",
      "source": [
        "from sklearn.ensemble import AdaBoostClassifier\n",
        "modeloAdaBoost = AdaBoostClassifier()\n",
        "\n",
        "modeloAdaBoost.fit(treino_dados, treino_marcacoes)\n",
        "\n",
        "resultadoAdaBoost = modeloAdaBoost.predict(teste_dados)\n",
        "acertos = (resultadoAdaBoost == teste_marcacoes)\n",
        "total_de_acertos = sum(acertos)\n",
        "total_de_elementos = len(teste_dados)\n",
        "\n",
        "taxa_de_acerto = 100.0 * total_de_acertos / total_de_elementos\n",
        "\n",
        "msg = (\"Taxa de acerto do algoritmo AdaBoost: \", taxa_de_acerto)\n",
        "\n",
        "resultadoAdaBoost = taxa_de_acerto\n",
        "\n",
        "print(msg)"
      ],
      "metadata": {
        "colab": {
          "base_uri": "https://localhost:8080/"
        },
        "id": "3dRu09_Tg71W",
        "outputId": "a47ba374-df21-4867-8c5c-c2129d4162bf"
      },
      "execution_count": null,
      "outputs": [
        {
          "output_type": "stream",
          "name": "stdout",
          "text": [
            "('Taxa de acerto do algoritmo AdaBoost: ', 85.71428571428571)\n"
          ]
        }
      ]
    },
    {
      "cell_type": "code",
      "source": [
        "if resultadoMultinomial > resultadoAdaBoost:\n",
        "    vencedor = modeloMultinomial\n",
        "else:\n",
        "    vencedor = modeloAdaBoost\n",
        "\n",
        "resultado = vencedor.predict(validacao_dados)\n",
        "acertos = (resultado == validacao_marcacoes)\n",
        "total_de_acertos = sum(acertos)\n",
        "total_de_elementos = len(validacao_marcacoes)\n",
        "taxa_de_acerto = 100.0 * total_de_acertos / total_de_elementos\n",
        "\n",
        "msg = \"Taxa de acerto do vencedor entre os dois algoritmos no mundo real: {0}\".format(taxa_de_acerto)\n",
        "print(msg)\n",
        "\n",
        "# a eficácia do algoritmo que chuta tudo um único valor\n",
        "acerto_base = max(Counter(validacao_marcacoes).values())\n",
        "taxa_de_acerto_base = 100.0 * acerto_base / len(validacao_marcacoes)\n",
        "print(\"Taxa de acerto base: %f\" % taxa_de_acerto_base)\n",
        "\n",
        "total_de_elementos = len(validacao_dados)\n",
        "print(\"Total de teste: %d\" % total_de_elementos)"
      ],
      "metadata": {
        "colab": {
          "base_uri": "https://localhost:8080/"
        },
        "id": "eTX_HTJEiJu1",
        "outputId": "1bbdf732-e3cf-4aa6-8ef5-0423f853be16"
      },
      "execution_count": null,
      "outputs": [
        {
          "output_type": "stream",
          "name": "stdout",
          "text": [
            "Taxa de acerto do vencedor entre os dois algoritmos no mundo real: 62.5\n",
            "Taxa de acerto base: 62.500000\n",
            "Total de teste: 8\n"
          ]
        }
      ]
    }
  ]
}