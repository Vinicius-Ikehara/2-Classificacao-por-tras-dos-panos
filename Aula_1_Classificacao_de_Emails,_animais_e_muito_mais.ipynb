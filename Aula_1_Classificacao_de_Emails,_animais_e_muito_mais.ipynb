{
  "nbformat": 4,
  "nbformat_minor": 0,
  "metadata": {
    "colab": {
      "name": "Aula 1 - Classificacao de Emails, animais e muito mais.ipynb",
      "provenance": []
    },
    "kernelspec": {
      "name": "python3",
      "display_name": "Python 3"
    },
    "language_info": {
      "name": "python"
    }
  },
  "cells": [
    {
      "cell_type": "code",
      "source": [
        "# [é gordinho?, tem perninha curta?, faz auau?]\n",
        "porco1 =    [1, 1, 0]\n",
        "porco2 =    [1, 1, 0]\n",
        "porco3 =    [1, 1, 0]\n",
        "cachorro4 = [1, 1, 1]\n",
        "cachorro5 = [0, 1, 1]\n",
        "cachorro6 = [0, 1, 1]\n",
        "\n",
        "#Juntando todos os Elementos em um Array\n",
        "dados = [porco1, porco2, porco3, cachorro4, cachorro5, cachorro6]\n",
        "\n",
        "#Marcando que os 3 primeiros = 1 então são porcos, os 3 últimos = -1 então são cachorros\n",
        "marcacoes = [1, 1, 1, -1, -1, -1]\n",
        "\n",
        "\n",
        "from sklearn.naive_bayes import MultinomialNB\n",
        "\n",
        "modelo = MultinomialNB()\n",
        "modelo.fit(dados, marcacoes)\n",
        "\n",
        "misterioso1 = [1, 1, 1]\n",
        "misterioso2 = [1, 0, 0]\n",
        "misterioso3 = [0, 0, 1]\n",
        "\n",
        "teste = [misterioso1, misterioso2, misterioso3]\n",
        "\n",
        "marcacoes_teste = [-1, 1, -1] # resultado que deve ser previsto\n",
        "\n",
        "resultado = modelo.predict(teste)\n",
        "\n",
        "print(resultado)# print da previsão\n",
        "\n",
        "print(resultado - marcacoes_teste) # se 0 então as marcacoes e a previsão foram iguais\n",
        "\n",
        "diferencas = resultado - marcacoes_teste\n",
        "print(diferencas)\n",
        "\n",
        "acertos = [d for d in diferencas if d==0]\n",
        "\n",
        "total_de_acertos = len(acertos)\n",
        "\n",
        "print(total_de_acertos)\n",
        "\n",
        "total_de_elementos = len(teste)\n",
        "\n",
        "taxa_de_acerto = 100.0 * total_de_acertos/total_de_elementos\n",
        "\n",
        "print(taxa_de_acerto)"
      ],
      "metadata": {
        "colab": {
          "base_uri": "https://localhost:8080/"
        },
        "id": "kxb7srDEGwIz",
        "outputId": "5ca251d5-2258-4c42-86a4-146fa9758702"
      },
      "execution_count": 8,
      "outputs": [
        {
          "output_type": "stream",
          "name": "stdout",
          "text": [
            "[-1  1 -1]\n",
            "[0 0 0]\n",
            "[0 0 0]\n",
            "3\n",
            "100.0\n"
          ]
        }
      ]
    }
  ]
}